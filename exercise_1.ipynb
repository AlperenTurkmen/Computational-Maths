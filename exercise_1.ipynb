{
 "cells": [
  {
   "cell_type": "code",
   "execution_count": 14,
   "metadata": {},
   "outputs": [],
   "source": [
    "import matplotlib.pyplot as plt\n",
    "import numpy as np\n",
    "# Alperen Türkmen 700051535"
   ]
  },
  {
   "cell_type": "code",
   "execution_count": 15,
   "metadata": {},
   "outputs": [],
   "source": [
    "# Points arrays\n",
    "xpoints = []\n",
    "ypoints = []\n",
    "xpoints_induced = []\n",
    "ypoints_induced = []\n",
    "# Default Values\n",
    "a = 4\n",
    "b = 3\n",
    "matrix_A = np.multiply(1 / b,np.array([[b, 1], [-1, 1]]))#Top row first, bottom row second.\n"
   ]
  },
  {
   "cell_type": "code",
   "execution_count": 16,
   "metadata": {},
   "outputs": [],
   "source": [
    "def inducedby (xpoints, ypoints,xpoints_induced,ypoints_induced) :\n",
    "    '''\n",
    "    This function here takes parameters of:\n",
    "\n",
    "    xpoints: X values of the coordinates of points. Type:List\n",
    "    ypoints: Y values of the coordinates of points. Type:List\n",
    "    xpoints_induced: An array to store the induced points' X values. Type:List\n",
    "    ypoints_induced: An array to store the induced points' X values. Type:List\n",
    "\n",
    "    It simply takes the points to be induced, matrix_A was already declared,\n",
    "    And all this function should do is: multiply them.\n",
    "    Then of course store that values in empty arrays.\n",
    "    '''\n",
    "    xpoints_induced.clear() # I cleared them everytime because otherwise it will come full, we don't want it.\n",
    "    ypoints_induced.clear()\n",
    "    for i in range(len(xpoints)): #It iterates the xpoints array\n",
    "        x = xpoints[i]\n",
    "        y = ypoints[i]\n",
    "        p = np.array([x, y])\n",
    "        p2 = np.matmul( matrix_A,p )# If we do p x matrix_A, it will rotate the figure to the left.\n",
    "        xpoints_induced.append(p2[0])\n",
    "        ypoints_induced.append(p2[1])\n",
    "\n"
   ]
  },
  {
   "cell_type": "code",
   "execution_count": 17,
   "metadata": {},
   "outputs": [],
   "source": [
    "def transformed_figure(a) :\n",
    "    '''\n",
    "    This function here takes parameter of:\n",
    "\n",
    "    a: this is the variable which was described in the coursework sheet.\n",
    "\n",
    "    It has 5 parts, 1 for each part except the 4th (It has 2 parts because of 'then').\n",
    "    We take the coordinates, split them into x's and y's, assign these arrays into\n",
    "    an array named 'xpoints' and 'ypoints'. And then, we should draw this raw figure on a canvas.\n",
    "    '''\n",
    "    #part1\n",
    "    xpoints = np.array([a, a, -a, -a, a])\n",
    "    ypoints = np.array([a, -a, -a, a, a])\n",
    "    inducedby(xpoints,ypoints,xpoints_induced,ypoints_induced)\n",
    "    plt.plot(xpoints_induced, ypoints_induced)\n",
    "    # part2\n",
    "    xpoints = np.array([1 - a, -a / 4, -a / 4, 1 - a, 1 - a])\n",
    "    ypoints = np.array([a - 1, a - 1, a / 2, a / 2, a - 1])\n",
    "    inducedby(xpoints, ypoints, xpoints_induced, ypoints_induced)\n",
    "    plt.plot(xpoints_induced, ypoints_induced)\n",
    "    # part3\n",
    "    xpoints = np.array([a / 4, a - 1])\n",
    "    ypoints = np.array([a - 1, a / 2])\n",
    "    inducedby(xpoints, ypoints, xpoints_induced, ypoints_induced)\n",
    "    plt.plot(xpoints_induced, ypoints_induced)\n",
    "    # then\n",
    "    xpoints = np.array([a - 1, a / 4])\n",
    "    ypoints = np.array([a - 1, a / 2])\n",
    "    inducedby(xpoints, ypoints, xpoints_induced, ypoints_induced)\n",
    "    plt.plot(xpoints_induced, ypoints_induced)\n",
    "    # part4\n",
    "    xpoints = np.array([a - 1, a - 1, 1 - a, 1 - a])\n",
    "    ypoints = np.array([-a / 4, -a / 2, -a / 2, -a / 4])\n",
    "    inducedby(xpoints, ypoints, xpoints_induced, ypoints_induced)\n",
    "    plt.plot(xpoints_induced, ypoints_induced)\n"
   ]
  },
  {
   "cell_type": "code",
   "execution_count": 18,
   "metadata": {},
   "outputs": [],
   "source": [
    "def figure (a) :\n",
    "    '''This function here takes parameter of:\n",
    "        a: this is the variable which was described in the coursework sheet.\n",
    "\n",
    "        It has 5 parts, 1 for each part except the 4th (It has 2 parts because of 'then').\n",
    "        We take the coordinates, split them into x's and y's, assign these arrays into\n",
    "        an array named 'xpoints' and 'ypoints'. And then, We should draw this transformed figure.\n",
    "        '''\n",
    "    # part1\n",
    "    xpoints = np.array([a, a, -a, -a, a])\n",
    "    ypoints = np.array([a, -a, -a, a, a])\n",
    "    plt.plot(xpoints, ypoints)\n",
    "    # part2\n",
    "    xpoints = np.array([1 - a, -a / 4, -a / 4, 1-a,1 - a])\n",
    "    ypoints = np.array([ a-1, a-1 , a/2, a/2, a-1])\n",
    "    plt.plot(xpoints, ypoints)\n",
    "    # part3\n",
    "    xpoints = np.array([a/4, a-1])\n",
    "    ypoints = np.array([a-1, a/2])\n",
    "    plt.plot(xpoints, ypoints)\n",
    "    # then\n",
    "    xpoints = np.array([a-1, a / 4])\n",
    "    ypoints = np.array([a - 1, a / 2])\n",
    "    plt.plot(xpoints, ypoints)\n",
    "    # part4\n",
    "    xpoints = np.array([a-1, a-1, 1-a, 1 - a])\n",
    "    ypoints = np.array([-a/4, -a/2,-a / 2, -a / 4])\n",
    "    plt.plot(xpoints, ypoints)"
   ]
  },
  {
   "cell_type": "code",
   "execution_count": 19,
   "metadata": {},
   "outputs": [
    {
     "data": {
      "image/png": "[encoded data removed]",
      "text/plain": [
       "<Figure size 432x288 with 2 Axes>"
      ]
     },
     "metadata": {
      "needs_background": "light"
     },
     "output_type": "display_data"
    }
   ],
   "source": [
    "def main() :\n",
    "    '''\n",
    "    This is my main function, it creates subplots, titles,\n",
    "    :return:\n",
    "    '''\n",
    "    #Figure\n",
    "    plt.subplot(1, 2, 1)\n",
    "    plt.title(\"Figure\")\n",
    "    figure(a) #This will invoke the function that I defined before.\n",
    "    # transformed points Induced by matrix\n",
    "    plt.subplot(1, 2, 2)\n",
    "    plt.title(\"Transformed Figure\")\n",
    "    transformed_figure(a) #This will also invoke the function I defined before.\n",
    "    #show all\n",
    "    plt.show() # Show the canvas.\n",
    "    \n",
    "if __name__ == \"__main__\":\n",
    "    main()\n"
   ]
  }
 ],
 "metadata": {
  "kernelspec": {
   "display_name": "Python 3",
   "language": "python",
   "name": "python3"
  },
  "language_info": {
   "codemirror_mode": {
    "name": "ipython",
    "version": 3
   },
   "file_extension": ".py",
   "mimetype": "text/x-python",
   "name": "python",
   "nbconvert_exporter": "python",
   "pygments_lexer": "ipython3",
   "version": "3.8.5"
  }
 },
 "nbformat": 4,
 "nbformat_minor": 4
}
